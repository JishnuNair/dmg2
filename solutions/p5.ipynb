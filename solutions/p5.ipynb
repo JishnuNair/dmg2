{
 "cells": [
  {
   "cell_type": "markdown",
   "metadata": {},
   "source": [
    "# DMG2 Assignment : Problem 5"
   ]
  },
  {
   "cell_type": "markdown",
   "metadata": {},
   "source": [
    "_k-Nearest Neighbours Classifier, Parzen Window Classifier_"
   ]
  },
  {
   "cell_type": "code",
   "execution_count": 1,
   "metadata": {
    "collapsed": true
   },
   "outputs": [],
   "source": [
    "import pandas as pd\n",
    "import numpy as np\n",
    "import os\n",
    "import matplotlib.pyplot as plt\n",
    "import seaborn as sns\n",
    "\n",
    "from sklearn.preprocessing import StandardScaler\n",
    "from sklearn.decomposition import PCA\n",
    "from sklearn.discriminant_analysis import LinearDiscriminantAnalysis\n",
    "from sklearn.neighbors import KNeighborsClassifier\n",
    "from sklearn import preprocessing\n",
    "from sklearn.neighbors import KernelDensity\n",
    "\n",
    "sns.set_style('whitegrid')"
   ]
  },
  {
   "cell_type": "code",
   "execution_count": 2,
   "metadata": {
    "collapsed": false
   },
   "outputs": [],
   "source": [
    "DATA_DIR = '/home/jishnu/Documents/ISB/Term3/dmg2/assignments/hw_assignment1/dmg2/datasets/mnist'"
   ]
  },
  {
   "cell_type": "code",
   "execution_count": 3,
   "metadata": {
    "collapsed": false
   },
   "outputs": [],
   "source": [
    "train = pd.DataFrame(columns=['V{}'.format(i) for i in range(1,785)] + ['label'])\n",
    "test = pd.DataFrame(columns=['V{}'.format(i) for i in range(1,785)] + ['label'])\n",
    "for num in range(10):\n",
    "    # Consolidating training data\n",
    "    temp_train = pd.read_csv(os.path.join(DATA_DIR,'train{0}.csv'.format(num)),usecols=['V{}'.format(i) for i in range(1,785)])\n",
    "    temp_train['label'] = num\n",
    "    train = train.append(temp_train,ignore_index=True)\n",
    "    # Consolidating test data\n",
    "    temp_test = pd.read_csv(os.path.join(DATA_DIR,'test{0}.csv'.format(num)),usecols=['V{}'.format(i) for i in range(1,785)])\n",
    "    temp_test['label'] = num\n",
    "    test = test.append(temp_test,ignore_index=True)"
   ]
  },
  {
   "cell_type": "code",
   "execution_count": 4,
   "metadata": {
    "collapsed": false
   },
   "outputs": [
    {
     "data": {
      "text/plain": [
       "(36470, 785)"
      ]
     },
     "execution_count": 4,
     "metadata": {},
     "output_type": "execute_result"
    }
   ],
   "source": [
    "train.shape"
   ]
  },
  {
   "cell_type": "code",
   "execution_count": 5,
   "metadata": {
    "collapsed": false
   },
   "outputs": [
    {
     "data": {
      "text/plain": [
       "(24190, 785)"
      ]
     },
     "execution_count": 5,
     "metadata": {},
     "output_type": "execute_result"
    }
   ],
   "source": [
    "test.shape"
   ]
  },
  {
   "cell_type": "code",
   "execution_count": 6,
   "metadata": {},
   "outputs": [
    {
     "data": {
      "text/plain": [
       "label  label\n",
       "4      4         46\n",
       "5      5        299\n",
       "6      6          1\n",
       "8      8         42\n",
       "Name: label, dtype: int64"
      ]
     },
     "execution_count": 6,
     "metadata": {},
     "output_type": "execute_result"
    }
   ],
   "source": [
    "train[train.isnull().any(axis=1)].groupby(by='label')['label'].value_counts()"
   ]
  },
  {
   "cell_type": "code",
   "execution_count": 7,
   "metadata": {},
   "outputs": [
    {
     "data": {
      "text/plain": [
       "label  label\n",
       "4      4         35\n",
       "5      5        203\n",
       "6      6          4\n",
       "8      8         30\n",
       "Name: label, dtype: int64"
      ]
     },
     "execution_count": 7,
     "metadata": {},
     "output_type": "execute_result"
    }
   ],
   "source": [
    "test[test.isnull().any(axis=1)].groupby(by='label')['label'].value_counts()"
   ]
  },
  {
   "cell_type": "markdown",
   "metadata": {},
   "source": [
    "**There are missing values in both the training and test data. Shown above is the count of rows with missing values, and the associated labels.**"
   ]
  },
  {
   "cell_type": "code",
   "execution_count": 8,
   "metadata": {},
   "outputs": [
    {
     "data": {
      "text/plain": [
       "label  label\n",
       "0      0        3567\n",
       "1      1        4034\n",
       "2      2        3582\n",
       "3      3        3677\n",
       "4      4        3567\n",
       "5      5        3567\n",
       "6      6        3567\n",
       "7      7        3763\n",
       "8      8        3567\n",
       "9      9        3579\n",
       "Name: label, dtype: int64"
      ]
     },
     "execution_count": 8,
     "metadata": {},
     "output_type": "execute_result"
    }
   ],
   "source": [
    "train.groupby(by='label')['label'].value_counts()"
   ]
  },
  {
   "cell_type": "code",
   "execution_count": 9,
   "metadata": {},
   "outputs": [
    {
     "data": {
      "text/plain": [
       "label  label\n",
       "0      0        2356\n",
       "1      1        2708\n",
       "2      2        2376\n",
       "3      3        2454\n",
       "4      4        2356\n",
       "5      5        2356\n",
       "6      6        2356\n",
       "7      7        2502\n",
       "8      8        2356\n",
       "9      9        2370\n",
       "Name: label, dtype: int64"
      ]
     },
     "execution_count": 9,
     "metadata": {},
     "output_type": "execute_result"
    }
   ],
   "source": [
    "test.groupby(by='label')['label'].value_counts()"
   ]
  },
  {
   "cell_type": "markdown",
   "metadata": {},
   "source": [
    "Considering the number of complete data for each label, we can safely remove the rows with missing values for our analysis."
   ]
  },
  {
   "cell_type": "code",
   "execution_count": 10,
   "metadata": {},
   "outputs": [],
   "source": [
    "train = train.dropna()\n",
    "test = test.dropna()"
   ]
  },
  {
   "cell_type": "code",
   "execution_count": 11,
   "metadata": {},
   "outputs": [
    {
     "data": {
      "text/plain": [
       "False"
      ]
     },
     "execution_count": 11,
     "metadata": {},
     "output_type": "execute_result"
    }
   ],
   "source": [
    "train.isnull().values.any()"
   ]
  },
  {
   "cell_type": "code",
   "execution_count": 12,
   "metadata": {},
   "outputs": [
    {
     "data": {
      "text/plain": [
       "False"
      ]
     },
     "execution_count": 12,
     "metadata": {},
     "output_type": "execute_result"
    }
   ],
   "source": [
    "test.isnull().values.any()"
   ]
  },
  {
   "cell_type": "markdown",
   "metadata": {},
   "source": [
    "There are no missing values in the training and test data now"
   ]
  },
  {
   "cell_type": "code",
   "execution_count": 13,
   "metadata": {},
   "outputs": [],
   "source": [
    "X_train = train.iloc[:,:784]\n",
    "Y_train = train.iloc[:,784]\n",
    "\n",
    "X_test = test.iloc[:,:784]\n",
    "Y_test = test.iloc[:,784]"
   ]
  },
  {
   "cell_type": "code",
   "execution_count": 14,
   "metadata": {
    "collapsed": false
   },
   "outputs": [],
   "source": [
    "# Standardizing feature values\n",
    "X_train = StandardScaler().fit_transform(X_train)\n",
    "X_test = StandardScaler().fit_transform(X_test)"
   ]
  },
  {
   "cell_type": "markdown",
   "metadata": {},
   "source": [
    "## Applying PCA"
   ]
  },
  {
   "cell_type": "code",
   "execution_count": 15,
   "metadata": {
    "collapsed": false
   },
   "outputs": [
    {
     "data": {
      "text/html": [
       "<div>\n",
       "<style scoped>\n",
       "    .dataframe tbody tr th:only-of-type {\n",
       "        vertical-align: middle;\n",
       "    }\n",
       "\n",
       "    .dataframe tbody tr th {\n",
       "        vertical-align: top;\n",
       "    }\n",
       "\n",
       "    .dataframe thead th {\n",
       "        text-align: right;\n",
       "    }\n",
       "</style>\n",
       "<table border=\"1\" class=\"dataframe\">\n",
       "  <thead>\n",
       "    <tr style=\"text-align: right;\">\n",
       "      <th></th>\n",
       "      <th>pc1</th>\n",
       "      <th>pc2</th>\n",
       "      <th>pc3</th>\n",
       "      <th>pc4</th>\n",
       "      <th>pc5</th>\n",
       "      <th>pc6</th>\n",
       "      <th>pc7</th>\n",
       "      <th>pc8</th>\n",
       "      <th>pc9</th>\n",
       "      <th>label</th>\n",
       "    </tr>\n",
       "  </thead>\n",
       "  <tbody>\n",
       "    <tr>\n",
       "      <th>0</th>\n",
       "      <td>1.751833</td>\n",
       "      <td>-6.389755</td>\n",
       "      <td>-2.021087</td>\n",
       "      <td>-2.694718</td>\n",
       "      <td>-6.427682</td>\n",
       "      <td>1.025097</td>\n",
       "      <td>-0.554033</td>\n",
       "      <td>5.296349</td>\n",
       "      <td>3.807623</td>\n",
       "      <td>0</td>\n",
       "    </tr>\n",
       "    <tr>\n",
       "      <th>1</th>\n",
       "      <td>5.884343</td>\n",
       "      <td>-7.690717</td>\n",
       "      <td>-2.390982</td>\n",
       "      <td>0.260438</td>\n",
       "      <td>-4.924087</td>\n",
       "      <td>-0.382575</td>\n",
       "      <td>0.298304</td>\n",
       "      <td>6.510170</td>\n",
       "      <td>3.098220</td>\n",
       "      <td>0</td>\n",
       "    </tr>\n",
       "    <tr>\n",
       "      <th>2</th>\n",
       "      <td>16.381093</td>\n",
       "      <td>5.663541</td>\n",
       "      <td>-1.865832</td>\n",
       "      <td>-3.368391</td>\n",
       "      <td>4.353517</td>\n",
       "      <td>-3.098186</td>\n",
       "      <td>-5.629483</td>\n",
       "      <td>-3.894353</td>\n",
       "      <td>2.471996</td>\n",
       "      <td>0</td>\n",
       "    </tr>\n",
       "    <tr>\n",
       "      <th>3</th>\n",
       "      <td>12.814322</td>\n",
       "      <td>-7.638621</td>\n",
       "      <td>-4.434501</td>\n",
       "      <td>-7.660043</td>\n",
       "      <td>-0.550385</td>\n",
       "      <td>-1.785665</td>\n",
       "      <td>-0.076132</td>\n",
       "      <td>1.813952</td>\n",
       "      <td>0.309337</td>\n",
       "      <td>0</td>\n",
       "    </tr>\n",
       "    <tr>\n",
       "      <th>4</th>\n",
       "      <td>11.123304</td>\n",
       "      <td>7.252218</td>\n",
       "      <td>5.007200</td>\n",
       "      <td>-0.333093</td>\n",
       "      <td>15.020012</td>\n",
       "      <td>-0.071782</td>\n",
       "      <td>-0.972011</td>\n",
       "      <td>-2.298600</td>\n",
       "      <td>0.127185</td>\n",
       "      <td>0</td>\n",
       "    </tr>\n",
       "  </tbody>\n",
       "</table>\n",
       "</div>"
      ],
      "text/plain": [
       "         pc1       pc2       pc3       pc4        pc5       pc6       pc7  \\\n",
       "0   1.751833 -6.389755 -2.021087 -2.694718  -6.427682  1.025097 -0.554033   \n",
       "1   5.884343 -7.690717 -2.390982  0.260438  -4.924087 -0.382575  0.298304   \n",
       "2  16.381093  5.663541 -1.865832 -3.368391   4.353517 -3.098186 -5.629483   \n",
       "3  12.814322 -7.638621 -4.434501 -7.660043  -0.550385 -1.785665 -0.076132   \n",
       "4  11.123304  7.252218  5.007200 -0.333093  15.020012 -0.071782 -0.972011   \n",
       "\n",
       "        pc8       pc9 label  \n",
       "0  5.296349  3.807623     0  \n",
       "1  6.510170  3.098220     0  \n",
       "2 -3.894353  2.471996     0  \n",
       "3  1.813952  0.309337     0  \n",
       "4 -2.298600  0.127185     0  "
      ]
     },
     "execution_count": 15,
     "metadata": {},
     "output_type": "execute_result"
    }
   ],
   "source": [
    "# Applying PCA\n",
    "pc = PCA(n_components=9).fit_transform(X_train)\n",
    "d1_train = pd.DataFrame(data=pc,columns=['pc{0}'.format(i) for i in range(1,10)])\n",
    "d1_train['label'] = Y_train.values\n",
    "d1_train.head(5)\n",
    "\n",
    "pc = PCA(n_components=9).fit_transform(X_test)\n",
    "d1_test = pd.DataFrame(data=pc,columns=['pc{0}'.format(i) for i in range(1,10)])\n",
    "d1_test['label'] = Y_test.values\n",
    "d1_test.head(5)"
   ]
  },
  {
   "cell_type": "markdown",
   "metadata": {},
   "source": [
    "## Applying Fisher LDA"
   ]
  },
  {
   "cell_type": "code",
   "execution_count": 16,
   "metadata": {
    "collapsed": false
   },
   "outputs": [
    {
     "name": "stderr",
     "output_type": "stream",
     "text": [
      "/home/jishnu/anaconda3/lib/python3.6/site-packages/sklearn/discriminant_analysis.py:388: UserWarning: Variables are collinear.\n",
      "  warnings.warn(\"Variables are collinear.\")\n",
      "/home/jishnu/anaconda3/lib/python3.6/site-packages/sklearn/discriminant_analysis.py:442: UserWarning: The priors do not sum to 1. Renormalizing\n",
      "  UserWarning)\n",
      "/home/jishnu/anaconda3/lib/python3.6/site-packages/sklearn/discriminant_analysis.py:388: UserWarning: Variables are collinear.\n",
      "  warnings.warn(\"Variables are collinear.\")\n"
     ]
    },
    {
     "data": {
      "text/html": [
       "<div>\n",
       "<style scoped>\n",
       "    .dataframe tbody tr th:only-of-type {\n",
       "        vertical-align: middle;\n",
       "    }\n",
       "\n",
       "    .dataframe tbody tr th {\n",
       "        vertical-align: top;\n",
       "    }\n",
       "\n",
       "    .dataframe thead th {\n",
       "        text-align: right;\n",
       "    }\n",
       "</style>\n",
       "<table border=\"1\" class=\"dataframe\">\n",
       "  <thead>\n",
       "    <tr style=\"text-align: right;\">\n",
       "      <th></th>\n",
       "      <th>f1</th>\n",
       "      <th>f2</th>\n",
       "      <th>f3</th>\n",
       "      <th>f4</th>\n",
       "      <th>f5</th>\n",
       "      <th>f6</th>\n",
       "      <th>f7</th>\n",
       "      <th>f8</th>\n",
       "      <th>f9</th>\n",
       "      <th>label</th>\n",
       "    </tr>\n",
       "  </thead>\n",
       "  <tbody>\n",
       "    <tr>\n",
       "      <th>0</th>\n",
       "      <td>-2.833687</td>\n",
       "      <td>-1.079133</td>\n",
       "      <td>-0.845838</td>\n",
       "      <td>-0.764987</td>\n",
       "      <td>-0.484096</td>\n",
       "      <td>0.313129</td>\n",
       "      <td>-0.955681</td>\n",
       "      <td>-0.997196</td>\n",
       "      <td>1.076134</td>\n",
       "      <td>0</td>\n",
       "    </tr>\n",
       "    <tr>\n",
       "      <th>1</th>\n",
       "      <td>-3.849851</td>\n",
       "      <td>-3.435085</td>\n",
       "      <td>-1.935596</td>\n",
       "      <td>0.478846</td>\n",
       "      <td>-2.420500</td>\n",
       "      <td>-0.475621</td>\n",
       "      <td>0.572627</td>\n",
       "      <td>-0.989022</td>\n",
       "      <td>0.779083</td>\n",
       "      <td>0</td>\n",
       "    </tr>\n",
       "    <tr>\n",
       "      <th>2</th>\n",
       "      <td>-3.350865</td>\n",
       "      <td>-4.500847</td>\n",
       "      <td>-3.900589</td>\n",
       "      <td>-1.086583</td>\n",
       "      <td>-2.654538</td>\n",
       "      <td>-1.739049</td>\n",
       "      <td>-1.565408</td>\n",
       "      <td>-0.213139</td>\n",
       "      <td>-0.024020</td>\n",
       "      <td>0</td>\n",
       "    </tr>\n",
       "    <tr>\n",
       "      <th>3</th>\n",
       "      <td>-3.283216</td>\n",
       "      <td>-2.503597</td>\n",
       "      <td>-3.138834</td>\n",
       "      <td>-0.103059</td>\n",
       "      <td>-1.582149</td>\n",
       "      <td>-0.295842</td>\n",
       "      <td>1.330582</td>\n",
       "      <td>-3.239352</td>\n",
       "      <td>1.473339</td>\n",
       "      <td>0</td>\n",
       "    </tr>\n",
       "    <tr>\n",
       "      <th>4</th>\n",
       "      <td>-2.231976</td>\n",
       "      <td>-1.552025</td>\n",
       "      <td>-3.889057</td>\n",
       "      <td>-0.017441</td>\n",
       "      <td>-0.577388</td>\n",
       "      <td>-2.299944</td>\n",
       "      <td>-0.684894</td>\n",
       "      <td>0.945457</td>\n",
       "      <td>0.404140</td>\n",
       "      <td>0</td>\n",
       "    </tr>\n",
       "  </tbody>\n",
       "</table>\n",
       "</div>"
      ],
      "text/plain": [
       "         f1        f2        f3        f4        f5        f6        f7  \\\n",
       "0 -2.833687 -1.079133 -0.845838 -0.764987 -0.484096  0.313129 -0.955681   \n",
       "1 -3.849851 -3.435085 -1.935596  0.478846 -2.420500 -0.475621  0.572627   \n",
       "2 -3.350865 -4.500847 -3.900589 -1.086583 -2.654538 -1.739049 -1.565408   \n",
       "3 -3.283216 -2.503597 -3.138834 -0.103059 -1.582149 -0.295842  1.330582   \n",
       "4 -2.231976 -1.552025 -3.889057 -0.017441 -0.577388 -2.299944 -0.684894   \n",
       "\n",
       "         f8        f9 label  \n",
       "0 -0.997196  1.076134     0  \n",
       "1 -0.989022  0.779083     0  \n",
       "2 -0.213139 -0.024020     0  \n",
       "3 -3.239352  1.473339     0  \n",
       "4  0.945457  0.404140     0  "
      ]
     },
     "execution_count": 16,
     "metadata": {},
     "output_type": "execute_result"
    }
   ],
   "source": [
    "fisher = LinearDiscriminantAnalysis(n_components=9).fit_transform(X_train,Y_train.astype('int'))\n",
    "d2_train = pd.DataFrame(data=fisher,columns=['f{0}'.format(i) for i in range(1,10)])\n",
    "d2_train['label'] = Y_train.values\n",
    "d2_train.head(5)\n",
    "\n",
    "fisher = LinearDiscriminantAnalysis(n_components=9).fit_transform(X_test,Y_test.astype('int'))\n",
    "d2_test = pd.DataFrame(data=fisher,columns=['f{0}'.format(i) for i in range(1,10)])\n",
    "d2_test['label'] = Y_test.values\n",
    "d2_test.head(5)"
   ]
  },
  {
   "cell_type": "markdown",
   "metadata": {},
   "source": [
    "## k-Nearest Neighbors Classification"
   ]
  },
  {
   "cell_type": "code",
   "execution_count": 17,
   "metadata": {},
   "outputs": [],
   "source": [
    "d1_train_X = d1_train.iloc[:,:9]\n",
    "d1_train_Y = d1_train.iloc[:,9].astype('int')\n",
    "\n",
    "d1_test_X = d1_test.iloc[:,:9]\n",
    "d1_test_Y = d1_test.iloc[:,9].astype('int')\n",
    "\n",
    "d2_train_X = d2_train.iloc[:,:9]\n",
    "d2_train_Y = d2_train.iloc[:,9].astype('int')\n",
    "\n",
    "d2_test_X = d2_test.iloc[:,:9]\n",
    "d2_test_Y = d2_test.iloc[:,9].astype('int')"
   ]
  },
  {
   "cell_type": "code",
   "execution_count": 18,
   "metadata": {},
   "outputs": [],
   "source": [
    "d1_knn = pd.DataFrame(columns=['k','acc_type','acc'])\n",
    "d2_knn = pd.DataFrame(columns=['k','acc_type','acc'])"
   ]
  },
  {
   "cell_type": "code",
   "execution_count": 19,
   "metadata": {},
   "outputs": [],
   "source": [
    "for k in range(1,18,2):\n",
    "    knn1 = KNeighborsClassifier(n_neighbors=k).fit(d1_train_X,d1_train_Y)\n",
    "    knn2 = KNeighborsClassifier(n_neighbors=k).fit(d2_train_X,d2_train_Y)\n",
    "    d1_knn = d1_knn.append({'k' : k, 'acc_type' : 'training', 'acc' : np.round(knn1.score(d1_train_X,d1_train_Y),4)},ignore_index=True)\n",
    "    d1_knn = d1_knn.append({'k' : k, 'acc_type' : 'test', 'acc' : np.round(knn1.score(d1_test_X,d1_test_Y),4)},ignore_index=True)\n",
    "    d2_knn = d2_knn.append({'k' : k, 'acc_type' : 'training', 'acc' : np.round(knn2.score(d2_train_X,d2_train_Y),4)},ignore_index=True)\n",
    "    d2_knn = d2_knn.append({'k' : k, 'acc_type' : 'test', 'acc' : np.round(knn2.score(d2_test_X,d2_test_Y),4)},ignore_index=True)\n"
   ]
  },
  {
   "cell_type": "code",
   "execution_count": 20,
   "metadata": {},
   "outputs": [
    {
     "data": {
      "text/html": [
       "<div>\n",
       "<style scoped>\n",
       "    .dataframe tbody tr th:only-of-type {\n",
       "        vertical-align: middle;\n",
       "    }\n",
       "\n",
       "    .dataframe tbody tr th {\n",
       "        vertical-align: top;\n",
       "    }\n",
       "\n",
       "    .dataframe thead th {\n",
       "        text-align: right;\n",
       "    }\n",
       "</style>\n",
       "<table border=\"1\" class=\"dataframe\">\n",
       "  <thead>\n",
       "    <tr style=\"text-align: right;\">\n",
       "      <th></th>\n",
       "      <th>k</th>\n",
       "      <th>acc_type</th>\n",
       "      <th>acc</th>\n",
       "    </tr>\n",
       "  </thead>\n",
       "  <tbody>\n",
       "    <tr>\n",
       "      <th>0</th>\n",
       "      <td>1</td>\n",
       "      <td>training</td>\n",
       "      <td>1.0000</td>\n",
       "    </tr>\n",
       "    <tr>\n",
       "      <th>1</th>\n",
       "      <td>1</td>\n",
       "      <td>test</td>\n",
       "      <td>0.7025</td>\n",
       "    </tr>\n",
       "    <tr>\n",
       "      <th>2</th>\n",
       "      <td>3</td>\n",
       "      <td>training</td>\n",
       "      <td>0.9328</td>\n",
       "    </tr>\n",
       "    <tr>\n",
       "      <th>3</th>\n",
       "      <td>3</td>\n",
       "      <td>test</td>\n",
       "      <td>0.7241</td>\n",
       "    </tr>\n",
       "    <tr>\n",
       "      <th>4</th>\n",
       "      <td>5</td>\n",
       "      <td>training</td>\n",
       "      <td>0.9200</td>\n",
       "    </tr>\n",
       "  </tbody>\n",
       "</table>\n",
       "</div>"
      ],
      "text/plain": [
       "   k  acc_type     acc\n",
       "0  1  training  1.0000\n",
       "1  1      test  0.7025\n",
       "2  3  training  0.9328\n",
       "3  3      test  0.7241\n",
       "4  5  training  0.9200"
      ]
     },
     "execution_count": 20,
     "metadata": {},
     "output_type": "execute_result"
    }
   ],
   "source": [
    "d1_knn.head()"
   ]
  },
  {
   "cell_type": "markdown",
   "metadata": {},
   "source": [
    "### Plotting training and test accuracy for kNN Classification"
   ]
  },
  {
   "cell_type": "markdown",
   "metadata": {},
   "source": [
    "**D1 Dataset**"
   ]
  },
  {
   "cell_type": "code",
   "execution_count": 21,
   "metadata": {},
   "outputs": [
    {
     "data": {
      "image/png": "[encoded data removed]",
      "text/plain": [
       "<Figure size 432x288 with 1 Axes>"
      ]
     },
     "metadata": {},
     "output_type": "display_data"
    }
   ],
   "source": [
    "sns.lineplot(x='k',y='acc',hue='acc_type',data=d1_knn,ci=0,)\n",
    "plt.title('Training and test accuracies for different k')\n",
    "plt.xlabel('k')\n",
    "plt.ylabel('Accuracy')\n",
    "plt.show();"
   ]
  },
  {
   "cell_type": "markdown",
   "metadata": {},
   "source": [
    "**D2 Dataset**"
   ]
  },
  {
   "cell_type": "code",
   "execution_count": 22,
   "metadata": {},
   "outputs": [
    {
     "data": {
      "image/png": "[encoded data removed]",
      "text/plain": [
       "<Figure size 432x288 with 1 Axes>"
      ]
     },
     "metadata": {},
     "output_type": "display_data"
    }
   ],
   "source": [
    "sns.lineplot(x='k',y='acc',hue='acc_type',data=d2_knn,ci=0,)\n",
    "plt.title('Training and test accuracies for different k')\n",
    "plt.xlabel('k')\n",
    "plt.ylabel('Accuracy')\n",
    "plt.show();"
   ]
  },
  {
   "cell_type": "markdown",
   "metadata": {},
   "source": [
    "**The optimal k for both datasets is 8 when considering the test accuracies.**"
   ]
  },
  {
   "cell_type": "markdown",
   "metadata": {},
   "source": [
    "## Parzen-Window Classification"
   ]
  },
  {
   "cell_type": "markdown",
   "metadata": {},
   "source": [
    "For each data point in test set, find the kernel function of the form $exp( - (X_i - X_t )^2 / 2 \\sigma^2 ) / \\sigma$\n",
    "\n",
    "The distance function used in euclidean, and the sum of kernel function value is found for all training data for each class to come up with the score of the class.\n",
    "\n",
    "This score is converted to a probaibility to find the predicted class with maximum probability"
   ]
  },
  {
   "cell_type": "markdown",
   "metadata": {},
   "source": [
    "**Sampling values from each class for better performance**"
   ]
  },
  {
   "cell_type": "code",
   "execution_count": 23,
   "metadata": {},
   "outputs": [
    {
     "data": {
      "text/html": [
       "<div>\n",
       "<style scoped>\n",
       "    .dataframe tbody tr th:only-of-type {\n",
       "        vertical-align: middle;\n",
       "    }\n",
       "\n",
       "    .dataframe tbody tr th {\n",
       "        vertical-align: top;\n",
       "    }\n",
       "\n",
       "    .dataframe thead th {\n",
       "        text-align: right;\n",
       "    }\n",
       "</style>\n",
       "<table border=\"1\" class=\"dataframe\">\n",
       "  <thead>\n",
       "    <tr style=\"text-align: right;\">\n",
       "      <th></th>\n",
       "      <th>pc1</th>\n",
       "      <th>pc2</th>\n",
       "      <th>pc3</th>\n",
       "      <th>pc4</th>\n",
       "      <th>pc5</th>\n",
       "      <th>pc6</th>\n",
       "      <th>pc7</th>\n",
       "      <th>pc8</th>\n",
       "      <th>pc9</th>\n",
       "    </tr>\n",
       "    <tr>\n",
       "      <th>label</th>\n",
       "      <th></th>\n",
       "      <th></th>\n",
       "      <th></th>\n",
       "      <th></th>\n",
       "      <th></th>\n",
       "      <th></th>\n",
       "      <th></th>\n",
       "      <th></th>\n",
       "      <th></th>\n",
       "    </tr>\n",
       "  </thead>\n",
       "  <tbody>\n",
       "    <tr>\n",
       "      <th>0</th>\n",
       "      <td>3567</td>\n",
       "      <td>3567</td>\n",
       "      <td>3567</td>\n",
       "      <td>3567</td>\n",
       "      <td>3567</td>\n",
       "      <td>3567</td>\n",
       "      <td>3567</td>\n",
       "      <td>3567</td>\n",
       "      <td>3567</td>\n",
       "    </tr>\n",
       "    <tr>\n",
       "      <th>1</th>\n",
       "      <td>4034</td>\n",
       "      <td>4034</td>\n",
       "      <td>4034</td>\n",
       "      <td>4034</td>\n",
       "      <td>4034</td>\n",
       "      <td>4034</td>\n",
       "      <td>4034</td>\n",
       "      <td>4034</td>\n",
       "      <td>4034</td>\n",
       "    </tr>\n",
       "    <tr>\n",
       "      <th>2</th>\n",
       "      <td>3582</td>\n",
       "      <td>3582</td>\n",
       "      <td>3582</td>\n",
       "      <td>3582</td>\n",
       "      <td>3582</td>\n",
       "      <td>3582</td>\n",
       "      <td>3582</td>\n",
       "      <td>3582</td>\n",
       "      <td>3582</td>\n",
       "    </tr>\n",
       "    <tr>\n",
       "      <th>3</th>\n",
       "      <td>3677</td>\n",
       "      <td>3677</td>\n",
       "      <td>3677</td>\n",
       "      <td>3677</td>\n",
       "      <td>3677</td>\n",
       "      <td>3677</td>\n",
       "      <td>3677</td>\n",
       "      <td>3677</td>\n",
       "      <td>3677</td>\n",
       "    </tr>\n",
       "    <tr>\n",
       "      <th>4</th>\n",
       "      <td>3521</td>\n",
       "      <td>3521</td>\n",
       "      <td>3521</td>\n",
       "      <td>3521</td>\n",
       "      <td>3521</td>\n",
       "      <td>3521</td>\n",
       "      <td>3521</td>\n",
       "      <td>3521</td>\n",
       "      <td>3521</td>\n",
       "    </tr>\n",
       "    <tr>\n",
       "      <th>5</th>\n",
       "      <td>3268</td>\n",
       "      <td>3268</td>\n",
       "      <td>3268</td>\n",
       "      <td>3268</td>\n",
       "      <td>3268</td>\n",
       "      <td>3268</td>\n",
       "      <td>3268</td>\n",
       "      <td>3268</td>\n",
       "      <td>3268</td>\n",
       "    </tr>\n",
       "    <tr>\n",
       "      <th>6</th>\n",
       "      <td>3566</td>\n",
       "      <td>3566</td>\n",
       "      <td>3566</td>\n",
       "      <td>3566</td>\n",
       "      <td>3566</td>\n",
       "      <td>3566</td>\n",
       "      <td>3566</td>\n",
       "      <td>3566</td>\n",
       "      <td>3566</td>\n",
       "    </tr>\n",
       "    <tr>\n",
       "      <th>7</th>\n",
       "      <td>3763</td>\n",
       "      <td>3763</td>\n",
       "      <td>3763</td>\n",
       "      <td>3763</td>\n",
       "      <td>3763</td>\n",
       "      <td>3763</td>\n",
       "      <td>3763</td>\n",
       "      <td>3763</td>\n",
       "      <td>3763</td>\n",
       "    </tr>\n",
       "    <tr>\n",
       "      <th>8</th>\n",
       "      <td>3525</td>\n",
       "      <td>3525</td>\n",
       "      <td>3525</td>\n",
       "      <td>3525</td>\n",
       "      <td>3525</td>\n",
       "      <td>3525</td>\n",
       "      <td>3525</td>\n",
       "      <td>3525</td>\n",
       "      <td>3525</td>\n",
       "    </tr>\n",
       "    <tr>\n",
       "      <th>9</th>\n",
       "      <td>3579</td>\n",
       "      <td>3579</td>\n",
       "      <td>3579</td>\n",
       "      <td>3579</td>\n",
       "      <td>3579</td>\n",
       "      <td>3579</td>\n",
       "      <td>3579</td>\n",
       "      <td>3579</td>\n",
       "      <td>3579</td>\n",
       "    </tr>\n",
       "  </tbody>\n",
       "</table>\n",
       "</div>"
      ],
      "text/plain": [
       "        pc1   pc2   pc3   pc4   pc5   pc6   pc7   pc8   pc9\n",
       "label                                                      \n",
       "0      3567  3567  3567  3567  3567  3567  3567  3567  3567\n",
       "1      4034  4034  4034  4034  4034  4034  4034  4034  4034\n",
       "2      3582  3582  3582  3582  3582  3582  3582  3582  3582\n",
       "3      3677  3677  3677  3677  3677  3677  3677  3677  3677\n",
       "4      3521  3521  3521  3521  3521  3521  3521  3521  3521\n",
       "5      3268  3268  3268  3268  3268  3268  3268  3268  3268\n",
       "6      3566  3566  3566  3566  3566  3566  3566  3566  3566\n",
       "7      3763  3763  3763  3763  3763  3763  3763  3763  3763\n",
       "8      3525  3525  3525  3525  3525  3525  3525  3525  3525\n",
       "9      3579  3579  3579  3579  3579  3579  3579  3579  3579"
      ]
     },
     "execution_count": 23,
     "metadata": {},
     "output_type": "execute_result"
    }
   ],
   "source": [
    "d1_train.groupby('label', group_keys=False).count()"
   ]
  },
  {
   "cell_type": "code",
   "execution_count": 24,
   "metadata": {},
   "outputs": [
    {
     "data": {
      "text/html": [
       "<div>\n",
       "<style scoped>\n",
       "    .dataframe tbody tr th:only-of-type {\n",
       "        vertical-align: middle;\n",
       "    }\n",
       "\n",
       "    .dataframe tbody tr th {\n",
       "        vertical-align: top;\n",
       "    }\n",
       "\n",
       "    .dataframe thead th {\n",
       "        text-align: right;\n",
       "    }\n",
       "</style>\n",
       "<table border=\"1\" class=\"dataframe\">\n",
       "  <thead>\n",
       "    <tr style=\"text-align: right;\">\n",
       "      <th></th>\n",
       "      <th>pc1</th>\n",
       "      <th>pc2</th>\n",
       "      <th>pc3</th>\n",
       "      <th>pc4</th>\n",
       "      <th>pc5</th>\n",
       "      <th>pc6</th>\n",
       "      <th>pc7</th>\n",
       "      <th>pc8</th>\n",
       "      <th>pc9</th>\n",
       "    </tr>\n",
       "    <tr>\n",
       "      <th>label</th>\n",
       "      <th></th>\n",
       "      <th></th>\n",
       "      <th></th>\n",
       "      <th></th>\n",
       "      <th></th>\n",
       "      <th></th>\n",
       "      <th></th>\n",
       "      <th></th>\n",
       "      <th></th>\n",
       "    </tr>\n",
       "  </thead>\n",
       "  <tbody>\n",
       "    <tr>\n",
       "      <th>0</th>\n",
       "      <td>2356</td>\n",
       "      <td>2356</td>\n",
       "      <td>2356</td>\n",
       "      <td>2356</td>\n",
       "      <td>2356</td>\n",
       "      <td>2356</td>\n",
       "      <td>2356</td>\n",
       "      <td>2356</td>\n",
       "      <td>2356</td>\n",
       "    </tr>\n",
       "    <tr>\n",
       "      <th>1</th>\n",
       "      <td>2708</td>\n",
       "      <td>2708</td>\n",
       "      <td>2708</td>\n",
       "      <td>2708</td>\n",
       "      <td>2708</td>\n",
       "      <td>2708</td>\n",
       "      <td>2708</td>\n",
       "      <td>2708</td>\n",
       "      <td>2708</td>\n",
       "    </tr>\n",
       "    <tr>\n",
       "      <th>2</th>\n",
       "      <td>2376</td>\n",
       "      <td>2376</td>\n",
       "      <td>2376</td>\n",
       "      <td>2376</td>\n",
       "      <td>2376</td>\n",
       "      <td>2376</td>\n",
       "      <td>2376</td>\n",
       "      <td>2376</td>\n",
       "      <td>2376</td>\n",
       "    </tr>\n",
       "    <tr>\n",
       "      <th>3</th>\n",
       "      <td>2454</td>\n",
       "      <td>2454</td>\n",
       "      <td>2454</td>\n",
       "      <td>2454</td>\n",
       "      <td>2454</td>\n",
       "      <td>2454</td>\n",
       "      <td>2454</td>\n",
       "      <td>2454</td>\n",
       "      <td>2454</td>\n",
       "    </tr>\n",
       "    <tr>\n",
       "      <th>4</th>\n",
       "      <td>2321</td>\n",
       "      <td>2321</td>\n",
       "      <td>2321</td>\n",
       "      <td>2321</td>\n",
       "      <td>2321</td>\n",
       "      <td>2321</td>\n",
       "      <td>2321</td>\n",
       "      <td>2321</td>\n",
       "      <td>2321</td>\n",
       "    </tr>\n",
       "    <tr>\n",
       "      <th>5</th>\n",
       "      <td>2153</td>\n",
       "      <td>2153</td>\n",
       "      <td>2153</td>\n",
       "      <td>2153</td>\n",
       "      <td>2153</td>\n",
       "      <td>2153</td>\n",
       "      <td>2153</td>\n",
       "      <td>2153</td>\n",
       "      <td>2153</td>\n",
       "    </tr>\n",
       "    <tr>\n",
       "      <th>6</th>\n",
       "      <td>2352</td>\n",
       "      <td>2352</td>\n",
       "      <td>2352</td>\n",
       "      <td>2352</td>\n",
       "      <td>2352</td>\n",
       "      <td>2352</td>\n",
       "      <td>2352</td>\n",
       "      <td>2352</td>\n",
       "      <td>2352</td>\n",
       "    </tr>\n",
       "    <tr>\n",
       "      <th>7</th>\n",
       "      <td>2502</td>\n",
       "      <td>2502</td>\n",
       "      <td>2502</td>\n",
       "      <td>2502</td>\n",
       "      <td>2502</td>\n",
       "      <td>2502</td>\n",
       "      <td>2502</td>\n",
       "      <td>2502</td>\n",
       "      <td>2502</td>\n",
       "    </tr>\n",
       "    <tr>\n",
       "      <th>8</th>\n",
       "      <td>2326</td>\n",
       "      <td>2326</td>\n",
       "      <td>2326</td>\n",
       "      <td>2326</td>\n",
       "      <td>2326</td>\n",
       "      <td>2326</td>\n",
       "      <td>2326</td>\n",
       "      <td>2326</td>\n",
       "      <td>2326</td>\n",
       "    </tr>\n",
       "    <tr>\n",
       "      <th>9</th>\n",
       "      <td>2370</td>\n",
       "      <td>2370</td>\n",
       "      <td>2370</td>\n",
       "      <td>2370</td>\n",
       "      <td>2370</td>\n",
       "      <td>2370</td>\n",
       "      <td>2370</td>\n",
       "      <td>2370</td>\n",
       "      <td>2370</td>\n",
       "    </tr>\n",
       "  </tbody>\n",
       "</table>\n",
       "</div>"
      ],
      "text/plain": [
       "        pc1   pc2   pc3   pc4   pc5   pc6   pc7   pc8   pc9\n",
       "label                                                      \n",
       "0      2356  2356  2356  2356  2356  2356  2356  2356  2356\n",
       "1      2708  2708  2708  2708  2708  2708  2708  2708  2708\n",
       "2      2376  2376  2376  2376  2376  2376  2376  2376  2376\n",
       "3      2454  2454  2454  2454  2454  2454  2454  2454  2454\n",
       "4      2321  2321  2321  2321  2321  2321  2321  2321  2321\n",
       "5      2153  2153  2153  2153  2153  2153  2153  2153  2153\n",
       "6      2352  2352  2352  2352  2352  2352  2352  2352  2352\n",
       "7      2502  2502  2502  2502  2502  2502  2502  2502  2502\n",
       "8      2326  2326  2326  2326  2326  2326  2326  2326  2326\n",
       "9      2370  2370  2370  2370  2370  2370  2370  2370  2370"
      ]
     },
     "execution_count": 24,
     "metadata": {},
     "output_type": "execute_result"
    }
   ],
   "source": [
    "d1_test.groupby('label', group_keys=False).count()"
   ]
  },
  {
   "cell_type": "markdown",
   "metadata": {},
   "source": [
    "There are around 3000 - 4000 data points for each class in train and 2000 - 3000 data points for each class in test. Let's sample 10 data points from each class"
   ]
  },
  {
   "cell_type": "code",
   "execution_count": 25,
   "metadata": {},
   "outputs": [],
   "source": [
    "d1_train = d1_train.groupby('label', group_keys=False).apply(lambda x: x.sample(min(len(x), 10)))\n",
    "d1_test = d1_test.groupby('label', group_keys=False).apply(lambda x: x.sample(min(len(x), 10)))\n",
    "\n",
    "d2_train = d2_train.groupby('label', group_keys=False).apply(lambda x: x.sample(min(len(x), 10)))\n",
    "d2_test = d2_test.groupby('label', group_keys=False).apply(lambda x: x.sample(min(len(x), 10)))\n",
    "\n",
    "d1_train_X = d1_train.iloc[:,:9]\n",
    "d1_train_Y = d1_train.iloc[:,9].astype('int')\n",
    "\n",
    "d1_test_X = d1_test.iloc[:,:9]\n",
    "d1_test_Y = d1_test.iloc[:,9].astype('int')\n",
    "\n",
    "d2_train_X = d2_train.iloc[:,:9]\n",
    "d2_train_Y = d2_train.iloc[:,9].astype('int')\n",
    "\n",
    "d2_test_X = d2_test.iloc[:,:9]\n",
    "d2_test_Y = d2_test.iloc[:,9].astype('int')"
   ]
  },
  {
   "cell_type": "code",
   "execution_count": 26,
   "metadata": {},
   "outputs": [],
   "source": [
    "def d1_train_ker(row_x,row_y,sigma):\n",
    "    dist = np.linalg.norm(row_x - row_y)\n",
    "    kernel_fn = np.exp(-dist**2/(2*sigma**2)) / sigma\n",
    "    return kernel_fn\n",
    "\n",
    "def d1_ker(row,sigma):\n",
    "    class_kernel_dict = dict()\n",
    "    row_x = row\n",
    "    for label in range(10):\n",
    "        sum_ker_fn = 0\n",
    "        d1_train_label = d1_train.loc[d1_train['label'] == label]\n",
    "        kernel_fn = d1_train_label.apply(lambda row_y:d1_train_ker(row_x,row_y[:9],sigma),axis=1)\n",
    "        class_kernel_dict[label] = kernel_fn.sum()\n",
    "    prediction = max(class_kernel_dict, key=class_kernel_dict.get)\n",
    "    return prediction\n",
    "\n",
    "def d2_ker(row,sigma):\n",
    "    class_kernel_dict = dict()\n",
    "    row_x = row\n",
    "    for label in range(10):\n",
    "        sum_ker_fn = 0\n",
    "        d2_train_label = d2_train.loc[d2_train['label'] == label]\n",
    "        kernel_fn = d2_train_label.apply(lambda row_y:d1_train_ker(row_x,row_y[:9],sigma),axis=1)\n",
    "        class_kernel_dict[label] = kernel_fn.sum()\n",
    "    prediction = max(class_kernel_dict, key=class_kernel_dict.get)\n",
    "    return prediction\n"
   ]
  },
  {
   "cell_type": "code",
   "execution_count": 27,
   "metadata": {},
   "outputs": [],
   "source": [
    "parzen_acc = pd.DataFrame(columns=['sigma','train_acc','test_acc'])\n",
    "for sigma in [x/10.0 for x in range(1,31,1)]:\n",
    "    predicted_labels = d1_test_X.apply(lambda row:d1_ker(row,sigma),axis=1)\n",
    "    test_acc_df = pd.DataFrame({'actual' : d1_test_Y,'predicted' : predicted_labels})\n",
    "    test_acc = np.round(test_acc_df.loc[test_acc_df['actual'] == test_acc_df['predicted']].shape[0] / test_acc_df.shape[0], 4)\n",
    "    predicted_labels = d1_train_X.apply(lambda row:d1_ker(row,sigma),axis=1)\n",
    "    train_acc_df = pd.DataFrame({'actual' : d1_train_Y,'predicted' : predicted_labels})\n",
    "    train_acc = np.round(train_acc_df.loc[train_acc_df['actual'] == train_acc_df['predicted']].shape[0] / train_acc_df.shape[0], 4)\n",
    "    parzen_acc = parzen_acc.append({'sigma' : sigma, 'train_acc' : train_acc, 'test_acc' : test_acc},ignore_index=True)\n",
    "    #print({'sigma' : sigma, 'train_acc' : train_acc, 'test_acc' : test_acc})\n",
    "    "
   ]
  },
  {
   "cell_type": "code",
   "execution_count": 28,
   "metadata": {},
   "outputs": [],
   "source": [
    "parzen_acc_d2 = pd.DataFrame(columns=['sigma','train_acc','test_acc'])\n",
    "for sigma in [x/10.0 for x in range(1,31,1)]:\n",
    "    predicted_labels = d2_test_X.apply(lambda row:d2_ker(row,sigma),axis=1)\n",
    "    test_acc_df = pd.DataFrame({'actual' : d2_test_Y,'predicted' : predicted_labels})\n",
    "    test_acc = np.round(test_acc_df.loc[test_acc_df['actual'] == test_acc_df['predicted']].shape[0] / test_acc_df.shape[0], 4)\n",
    "    predicted_labels = d2_train_X.apply(lambda row:d2_ker(row,sigma),axis=1)\n",
    "    train_acc_df = pd.DataFrame({'actual' : d2_train_Y,'predicted' : predicted_labels})\n",
    "    train_acc = np.round(train_acc_df.loc[train_acc_df['actual'] == train_acc_df['predicted']].shape[0] / train_acc_df.shape[0], 4)\n",
    "    parzen_acc_d2 = parzen_acc_d2.append({'sigma' : sigma, 'train_acc' : train_acc, 'test_acc' : test_acc},ignore_index=True)\n",
    "    #print({'sigma' : sigma, 'train_acc' : train_acc, 'test_acc' : test_acc})\n",
    "    "
   ]
  },
  {
   "cell_type": "markdown",
   "metadata": {},
   "source": [
    "## Plotting Train\\Test Accuracy vs Sigma for D1 Dataset"
   ]
  },
  {
   "cell_type": "code",
   "execution_count": 29,
   "metadata": {},
   "outputs": [
    {
     "data": {
      "image/png": "[encoded data removed]",
      "text/plain": [
       "<Figure size 432x288 with 1 Axes>"
      ]
     },
     "metadata": {},
     "output_type": "display_data"
    }
   ],
   "source": [
    "sns.lineplot(x='sigma',y='value',hue='variable',data=parzen_acc.melt(id_vars=['sigma'],value_vars=['test_acc','train_acc']))\n",
    "plt.ylabel('Accuracy')\n",
    "plt.show()"
   ]
  },
  {
   "cell_type": "markdown",
   "metadata": {},
   "source": [
    "## Plotting Train\\Test Accuracy vs Sigma for D2 Dataset"
   ]
  },
  {
   "cell_type": "code",
   "execution_count": 30,
   "metadata": {},
   "outputs": [
    {
     "data": {
      "image/png": "[encoded data removed]",
      "text/plain": [
       "<Figure size 432x288 with 1 Axes>"
      ]
     },
     "metadata": {},
     "output_type": "display_data"
    }
   ],
   "source": [
    "sns.lineplot(x='sigma',y='value',hue='variable',data=parzen_acc_d2.melt(id_vars=['sigma'],value_vars=['test_acc','train_acc']))\n",
    "plt.ylabel('Accuracy')\n",
    "plt.show()"
   ]
  },
  {
   "cell_type": "markdown",
   "metadata": {},
   "source": [
    "The optimal sigma is 0.5 for D1 dataset and 1.4 for D1 dataset."
   ]
  },
  {
   "cell_type": "markdown",
   "metadata": {},
   "source": [
    "It is seen that kNN classifier gives more test accuracies when compared to parzen window classifiers."
   ]
  }
 ],
 "metadata": {
  "anaconda-cloud": {},
  "kernelspec": {
   "display_name": "Python 3",
   "language": "python",
   "name": "python3"
  },
  "language_info": {
   "codemirror_mode": {
    "name": "ipython",
    "version": 3
   },
   "file_extension": ".py",
   "mimetype": "text/x-python",
   "name": "python",
   "nbconvert_exporter": "python",
   "pygments_lexer": "ipython3",
   "version": "3.6.6"
  },
  "toc": {
   "nav_menu": {},
   "number_sections": true,
   "sideBar": true,
   "skip_h1_title": false,
   "title_cell": "Table of Contents",
   "title_sidebar": "Contents",
   "toc_cell": false,
   "toc_position": {},
   "toc_section_display": true,
   "toc_window_display": false
  }
 },
 "nbformat": 4,
 "nbformat_minor": 2
}

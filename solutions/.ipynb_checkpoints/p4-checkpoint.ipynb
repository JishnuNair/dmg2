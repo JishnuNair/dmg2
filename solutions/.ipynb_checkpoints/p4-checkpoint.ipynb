{
 "cells": [
  {
   "cell_type": "markdown",
   "metadata": {},
   "source": [
    "# DMG2 Assignment : Problem 4"
   ]
  },
  {
   "cell_type": "markdown",
   "metadata": {},
   "source": [
    "_Bayesian Classifier_"
   ]
  },
  {
   "cell_type": "code",
   "execution_count": 1,
   "metadata": {
    "collapsed": true
   },
   "outputs": [],
   "source": [
    "import pandas as pd\n",
    "import numpy as np\n",
    "import os\n",
    "import matplotlib.pyplot as plt\n",
    "import seaborn as sns\n",
    "\n",
    "from sklearn.preprocessing import StandardScaler\n",
    "from sklearn.decomposition import PCA\n",
    "from sklearn.discriminant_analysis import LinearDiscriminantAnalysis\n",
    "from sklearn.neighbors import KNeighborsClassifier\n",
    "from sklearn import preprocessing\n",
    "from sklearn.neighbors import KernelDensity\n",
    "from sklearn.mixture import BayesianGaussianMixture"
   ]
  },
  {
   "cell_type": "code",
   "execution_count": 2,
   "metadata": {
    "collapsed": false
   },
   "outputs": [],
   "source": [
    "DATA_DIR = '/home/jishnu/Documents/ISB/Term3/dmg2/assignments/hw_assignment1/dmg2/datasets/mnist'"
   ]
  },
  {
   "cell_type": "code",
   "execution_count": 3,
   "metadata": {
    "collapsed": false
   },
   "outputs": [],
   "source": [
    "train = pd.DataFrame(columns=['V{}'.format(i) for i in range(1,785)] + ['label'])\n",
    "test = pd.DataFrame(columns=['V{}'.format(i) for i in range(1,785)] + ['label'])\n",
    "for num in range(10):\n",
    "    # Consolidating training data\n",
    "    temp_train = pd.read_csv(os.path.join(DATA_DIR,'train{0}.csv'.format(num)),usecols=['V{}'.format(i) for i in range(1,785)])\n",
    "    temp_train['label'] = num\n",
    "    train = train.append(temp_train,ignore_index=True)\n",
    "    # Consolidating test data\n",
    "    temp_test = pd.read_csv(os.path.join(DATA_DIR,'test{0}.csv'.format(num)),usecols=['V{}'.format(i) for i in range(1,785)])\n",
    "    temp_test['label'] = num\n",
    "    test = test.append(temp_test,ignore_index=True)"
   ]
  },
  {
   "cell_type": "code",
   "execution_count": 4,
   "metadata": {
    "collapsed": false
   },
   "outputs": [
    {
     "data": {
      "text/plain": [
       "(36470, 785)"
      ]
     },
     "execution_count": 4,
     "metadata": {},
     "output_type": "execute_result"
    }
   ],
   "source": [
    "train.shape"
   ]
  },
  {
   "cell_type": "code",
   "execution_count": 5,
   "metadata": {
    "collapsed": false
   },
   "outputs": [
    {
     "data": {
      "text/plain": [
       "(24190, 785)"
      ]
     },
     "execution_count": 5,
     "metadata": {},
     "output_type": "execute_result"
    }
   ],
   "source": [
    "test.shape"
   ]
  },
  {
   "cell_type": "code",
   "execution_count": 6,
   "metadata": {},
   "outputs": [
    {
     "data": {
      "text/plain": [
       "label  label\n",
       "4      4         46\n",
       "5      5        299\n",
       "6      6          1\n",
       "8      8         42\n",
       "Name: label, dtype: int64"
      ]
     },
     "execution_count": 6,
     "metadata": {},
     "output_type": "execute_result"
    }
   ],
   "source": [
    "train[train.isnull().any(axis=1)].groupby(by='label')['label'].value_counts()"
   ]
  },
  {
   "cell_type": "code",
   "execution_count": 7,
   "metadata": {},
   "outputs": [
    {
     "data": {
      "text/plain": [
       "label  label\n",
       "4      4         35\n",
       "5      5        203\n",
       "6      6          4\n",
       "8      8         30\n",
       "Name: label, dtype: int64"
      ]
     },
     "execution_count": 7,
     "metadata": {},
     "output_type": "execute_result"
    }
   ],
   "source": [
    "test[test.isnull().any(axis=1)].groupby(by='label')['label'].value_counts()"
   ]
  },
  {
   "cell_type": "markdown",
   "metadata": {},
   "source": [
    "**There are missing values in both the training and test data. Shown above is the count of rows with missing values, and the associated labels.**"
   ]
  },
  {
   "cell_type": "code",
   "execution_count": 8,
   "metadata": {},
   "outputs": [
    {
     "data": {
      "text/plain": [
       "label  label\n",
       "0      0        3567\n",
       "1      1        4034\n",
       "2      2        3582\n",
       "3      3        3677\n",
       "4      4        3567\n",
       "5      5        3567\n",
       "6      6        3567\n",
       "7      7        3763\n",
       "8      8        3567\n",
       "9      9        3579\n",
       "Name: label, dtype: int64"
      ]
     },
     "execution_count": 8,
     "metadata": {},
     "output_type": "execute_result"
    }
   ],
   "source": [
    "train.groupby(by='label')['label'].value_counts()"
   ]
  },
  {
   "cell_type": "code",
   "execution_count": 9,
   "metadata": {},
   "outputs": [
    {
     "data": {
      "text/plain": [
       "label  label\n",
       "0      0        2356\n",
       "1      1        2708\n",
       "2      2        2376\n",
       "3      3        2454\n",
       "4      4        2356\n",
       "5      5        2356\n",
       "6      6        2356\n",
       "7      7        2502\n",
       "8      8        2356\n",
       "9      9        2370\n",
       "Name: label, dtype: int64"
      ]
     },
     "execution_count": 9,
     "metadata": {},
     "output_type": "execute_result"
    }
   ],
   "source": [
    "test.groupby(by='label')['label'].value_counts()"
   ]
  },
  {
   "cell_type": "markdown",
   "metadata": {},
   "source": [
    "Considering the number of complete data for each label, we can safely remove the rows with missing values for our analysis."
   ]
  },
  {
   "cell_type": "code",
   "execution_count": 10,
   "metadata": {},
   "outputs": [],
   "source": [
    "train = train.dropna()\n",
    "test = test.dropna()"
   ]
  },
  {
   "cell_type": "code",
   "execution_count": 11,
   "metadata": {},
   "outputs": [
    {
     "data": {
      "text/plain": [
       "False"
      ]
     },
     "execution_count": 11,
     "metadata": {},
     "output_type": "execute_result"
    }
   ],
   "source": [
    "train.isnull().values.any()"
   ]
  },
  {
   "cell_type": "code",
   "execution_count": 12,
   "metadata": {},
   "outputs": [
    {
     "data": {
      "text/plain": [
       "False"
      ]
     },
     "execution_count": 12,
     "metadata": {},
     "output_type": "execute_result"
    }
   ],
   "source": [
    "test.isnull().values.any()"
   ]
  },
  {
   "cell_type": "markdown",
   "metadata": {},
   "source": [
    "There are no missing values in the training and test data now"
   ]
  },
  {
   "cell_type": "code",
   "execution_count": 13,
   "metadata": {},
   "outputs": [],
   "source": [
    "X_train = train.iloc[:,:784]\n",
    "Y_train = train.iloc[:,784]\n",
    "\n",
    "X_test = test.iloc[:,:784]\n",
    "Y_test = test.iloc[:,784]"
   ]
  },
  {
   "cell_type": "code",
   "execution_count": 14,
   "metadata": {
    "collapsed": false
   },
   "outputs": [],
   "source": [
    "# Standardizing feature values\n",
    "X_train = StandardScaler().fit_transform(X_train)\n",
    "X_test = StandardScaler().fit_transform(X_test)"
   ]
  },
  {
   "cell_type": "markdown",
   "metadata": {},
   "source": [
    "## Applying PCA"
   ]
  },
  {
   "cell_type": "code",
   "execution_count": 15,
   "metadata": {
    "collapsed": false
   },
   "outputs": [
    {
     "data": {
      "text/html": [
       "<div>\n",
       "<style scoped>\n",
       "    .dataframe tbody tr th:only-of-type {\n",
       "        vertical-align: middle;\n",
       "    }\n",
       "\n",
       "    .dataframe tbody tr th {\n",
       "        vertical-align: top;\n",
       "    }\n",
       "\n",
       "    .dataframe thead th {\n",
       "        text-align: right;\n",
       "    }\n",
       "</style>\n",
       "<table border=\"1\" class=\"dataframe\">\n",
       "  <thead>\n",
       "    <tr style=\"text-align: right;\">\n",
       "      <th></th>\n",
       "      <th>pc1</th>\n",
       "      <th>pc2</th>\n",
       "      <th>pc3</th>\n",
       "      <th>pc4</th>\n",
       "      <th>pc5</th>\n",
       "      <th>pc6</th>\n",
       "      <th>pc7</th>\n",
       "      <th>pc8</th>\n",
       "      <th>pc9</th>\n",
       "      <th>label</th>\n",
       "    </tr>\n",
       "  </thead>\n",
       "  <tbody>\n",
       "    <tr>\n",
       "      <th>0</th>\n",
       "      <td>1.751830</td>\n",
       "      <td>-6.389664</td>\n",
       "      <td>-2.021165</td>\n",
       "      <td>-2.694659</td>\n",
       "      <td>-6.429366</td>\n",
       "      <td>1.019104</td>\n",
       "      <td>-0.542573</td>\n",
       "      <td>5.256936</td>\n",
       "      <td>3.767868</td>\n",
       "      <td>0</td>\n",
       "    </tr>\n",
       "    <tr>\n",
       "      <th>1</th>\n",
       "      <td>5.884343</td>\n",
       "      <td>-7.690853</td>\n",
       "      <td>-2.390978</td>\n",
       "      <td>0.261106</td>\n",
       "      <td>-4.924829</td>\n",
       "      <td>-0.391050</td>\n",
       "      <td>0.309557</td>\n",
       "      <td>6.492449</td>\n",
       "      <td>3.092690</td>\n",
       "      <td>0</td>\n",
       "    </tr>\n",
       "    <tr>\n",
       "      <th>2</th>\n",
       "      <td>16.381096</td>\n",
       "      <td>5.663253</td>\n",
       "      <td>-1.865696</td>\n",
       "      <td>-3.367635</td>\n",
       "      <td>4.355100</td>\n",
       "      <td>-3.101171</td>\n",
       "      <td>-5.638945</td>\n",
       "      <td>-3.853234</td>\n",
       "      <td>2.516209</td>\n",
       "      <td>0</td>\n",
       "    </tr>\n",
       "    <tr>\n",
       "      <th>3</th>\n",
       "      <td>12.814321</td>\n",
       "      <td>-7.638624</td>\n",
       "      <td>-4.434649</td>\n",
       "      <td>-7.658103</td>\n",
       "      <td>-0.552335</td>\n",
       "      <td>-1.798447</td>\n",
       "      <td>-0.070458</td>\n",
       "      <td>1.757393</td>\n",
       "      <td>0.340406</td>\n",
       "      <td>0</td>\n",
       "    </tr>\n",
       "    <tr>\n",
       "      <th>4</th>\n",
       "      <td>11.123280</td>\n",
       "      <td>7.252469</td>\n",
       "      <td>5.007046</td>\n",
       "      <td>-0.332320</td>\n",
       "      <td>15.016163</td>\n",
       "      <td>-0.064696</td>\n",
       "      <td>-0.998728</td>\n",
       "      <td>-2.343500</td>\n",
       "      <td>0.036345</td>\n",
       "      <td>0</td>\n",
       "    </tr>\n",
       "  </tbody>\n",
       "</table>\n",
       "</div>"
      ],
      "text/plain": [
       "         pc1       pc2       pc3       pc4        pc5       pc6       pc7  \\\n",
       "0   1.751830 -6.389664 -2.021165 -2.694659  -6.429366  1.019104 -0.542573   \n",
       "1   5.884343 -7.690853 -2.390978  0.261106  -4.924829 -0.391050  0.309557   \n",
       "2  16.381096  5.663253 -1.865696 -3.367635   4.355100 -3.101171 -5.638945   \n",
       "3  12.814321 -7.638624 -4.434649 -7.658103  -0.552335 -1.798447 -0.070458   \n",
       "4  11.123280  7.252469  5.007046 -0.332320  15.016163 -0.064696 -0.998728   \n",
       "\n",
       "        pc8       pc9 label  \n",
       "0  5.256936  3.767868     0  \n",
       "1  6.492449  3.092690     0  \n",
       "2 -3.853234  2.516209     0  \n",
       "3  1.757393  0.340406     0  \n",
       "4 -2.343500  0.036345     0  "
      ]
     },
     "execution_count": 15,
     "metadata": {},
     "output_type": "execute_result"
    }
   ],
   "source": [
    "# Applying PCA\n",
    "pc = PCA(n_components=9).fit_transform(X_train)\n",
    "d1_train = pd.DataFrame(data=pc,columns=['pc{0}'.format(i) for i in range(1,10)])\n",
    "d1_train['label'] = Y_train.values\n",
    "d1_train.head(5)\n",
    "\n",
    "pc = PCA(n_components=9).fit_transform(X_test)\n",
    "d1_test = pd.DataFrame(data=pc,columns=['pc{0}'.format(i) for i in range(1,10)])\n",
    "d1_test['label'] = Y_test.values\n",
    "d1_test.head(5)"
   ]
  },
  {
   "cell_type": "markdown",
   "metadata": {},
   "source": [
    "## Applying Fisher LDA"
   ]
  },
  {
   "cell_type": "code",
   "execution_count": 16,
   "metadata": {
    "collapsed": false
   },
   "outputs": [
    {
     "name": "stderr",
     "output_type": "stream",
     "text": [
      "/home/jishnu/anaconda3/lib/python3.6/site-packages/sklearn/discriminant_analysis.py:388: UserWarning: Variables are collinear.\n",
      "  warnings.warn(\"Variables are collinear.\")\n",
      "/home/jishnu/anaconda3/lib/python3.6/site-packages/sklearn/discriminant_analysis.py:442: UserWarning: The priors do not sum to 1. Renormalizing\n",
      "  UserWarning)\n",
      "/home/jishnu/anaconda3/lib/python3.6/site-packages/sklearn/discriminant_analysis.py:388: UserWarning: Variables are collinear.\n",
      "  warnings.warn(\"Variables are collinear.\")\n"
     ]
    },
    {
     "data": {
      "text/html": [
       "<div>\n",
       "<style scoped>\n",
       "    .dataframe tbody tr th:only-of-type {\n",
       "        vertical-align: middle;\n",
       "    }\n",
       "\n",
       "    .dataframe tbody tr th {\n",
       "        vertical-align: top;\n",
       "    }\n",
       "\n",
       "    .dataframe thead th {\n",
       "        text-align: right;\n",
       "    }\n",
       "</style>\n",
       "<table border=\"1\" class=\"dataframe\">\n",
       "  <thead>\n",
       "    <tr style=\"text-align: right;\">\n",
       "      <th></th>\n",
       "      <th>f1</th>\n",
       "      <th>f2</th>\n",
       "      <th>f3</th>\n",
       "      <th>f4</th>\n",
       "      <th>f5</th>\n",
       "      <th>f6</th>\n",
       "      <th>f7</th>\n",
       "      <th>f8</th>\n",
       "      <th>f9</th>\n",
       "      <th>label</th>\n",
       "    </tr>\n",
       "  </thead>\n",
       "  <tbody>\n",
       "    <tr>\n",
       "      <th>0</th>\n",
       "      <td>-2.833687</td>\n",
       "      <td>-1.079133</td>\n",
       "      <td>-0.845838</td>\n",
       "      <td>-0.764987</td>\n",
       "      <td>-0.484096</td>\n",
       "      <td>0.313129</td>\n",
       "      <td>-0.955681</td>\n",
       "      <td>-0.997196</td>\n",
       "      <td>1.076134</td>\n",
       "      <td>0</td>\n",
       "    </tr>\n",
       "    <tr>\n",
       "      <th>1</th>\n",
       "      <td>-3.849851</td>\n",
       "      <td>-3.435085</td>\n",
       "      <td>-1.935596</td>\n",
       "      <td>0.478846</td>\n",
       "      <td>-2.420500</td>\n",
       "      <td>-0.475621</td>\n",
       "      <td>0.572627</td>\n",
       "      <td>-0.989022</td>\n",
       "      <td>0.779083</td>\n",
       "      <td>0</td>\n",
       "    </tr>\n",
       "    <tr>\n",
       "      <th>2</th>\n",
       "      <td>-3.350865</td>\n",
       "      <td>-4.500847</td>\n",
       "      <td>-3.900589</td>\n",
       "      <td>-1.086583</td>\n",
       "      <td>-2.654538</td>\n",
       "      <td>-1.739049</td>\n",
       "      <td>-1.565408</td>\n",
       "      <td>-0.213139</td>\n",
       "      <td>-0.024020</td>\n",
       "      <td>0</td>\n",
       "    </tr>\n",
       "    <tr>\n",
       "      <th>3</th>\n",
       "      <td>-3.283216</td>\n",
       "      <td>-2.503597</td>\n",
       "      <td>-3.138834</td>\n",
       "      <td>-0.103059</td>\n",
       "      <td>-1.582149</td>\n",
       "      <td>-0.295842</td>\n",
       "      <td>1.330582</td>\n",
       "      <td>-3.239352</td>\n",
       "      <td>1.473339</td>\n",
       "      <td>0</td>\n",
       "    </tr>\n",
       "    <tr>\n",
       "      <th>4</th>\n",
       "      <td>-2.231976</td>\n",
       "      <td>-1.552025</td>\n",
       "      <td>-3.889057</td>\n",
       "      <td>-0.017441</td>\n",
       "      <td>-0.577388</td>\n",
       "      <td>-2.299944</td>\n",
       "      <td>-0.684894</td>\n",
       "      <td>0.945457</td>\n",
       "      <td>0.404140</td>\n",
       "      <td>0</td>\n",
       "    </tr>\n",
       "  </tbody>\n",
       "</table>\n",
       "</div>"
      ],
      "text/plain": [
       "         f1        f2        f3        f4        f5        f6        f7  \\\n",
       "0 -2.833687 -1.079133 -0.845838 -0.764987 -0.484096  0.313129 -0.955681   \n",
       "1 -3.849851 -3.435085 -1.935596  0.478846 -2.420500 -0.475621  0.572627   \n",
       "2 -3.350865 -4.500847 -3.900589 -1.086583 -2.654538 -1.739049 -1.565408   \n",
       "3 -3.283216 -2.503597 -3.138834 -0.103059 -1.582149 -0.295842  1.330582   \n",
       "4 -2.231976 -1.552025 -3.889057 -0.017441 -0.577388 -2.299944 -0.684894   \n",
       "\n",
       "         f8        f9 label  \n",
       "0 -0.997196  1.076134     0  \n",
       "1 -0.989022  0.779083     0  \n",
       "2 -0.213139 -0.024020     0  \n",
       "3 -3.239352  1.473339     0  \n",
       "4  0.945457  0.404140     0  "
      ]
     },
     "execution_count": 16,
     "metadata": {},
     "output_type": "execute_result"
    }
   ],
   "source": [
    "fisher = LinearDiscriminantAnalysis(n_components=9).fit_transform(X_train,Y_train.astype('int'))\n",
    "d2_train = pd.DataFrame(data=fisher,columns=['f{0}'.format(i) for i in range(1,10)])\n",
    "d2_train['label'] = Y_train.values\n",
    "d2_train.head(5)\n",
    "\n",
    "fisher = LinearDiscriminantAnalysis(n_components=9).fit_transform(X_test,Y_test.astype('int'))\n",
    "d2_test = pd.DataFrame(data=fisher,columns=['f{0}'.format(i) for i in range(1,10)])\n",
    "d2_test['label'] = Y_test.values\n",
    "d2_test.head(5)"
   ]
  },
  {
   "cell_type": "markdown",
   "metadata": {},
   "source": [
    "## Building Bayesian Classifier on D1 Dataset"
   ]
  },
  {
   "cell_type": "code",
   "execution_count": 17,
   "metadata": {},
   "outputs": [],
   "source": [
    "d1_train_X = d1_train.iloc[:,:9]\n",
    "d1_train_Y = d1_train.iloc[:,9].astype('int')\n",
    "\n",
    "d1_test_X = d1_test.iloc[:,:9]\n",
    "d1_test_Y = d1_test.iloc[:,9].astype('int')\n",
    "\n",
    "d2_train_X = d2_train.iloc[:,:9]\n",
    "d2_train_Y = d2_train.iloc[:,9].astype('int')\n",
    "\n",
    "d2_test_X = d2_test.iloc[:,:9]\n",
    "d2_test_Y = d2_test.iloc[:,9].astype('int')"
   ]
  },
  {
   "cell_type": "code",
   "execution_count": 18,
   "metadata": {},
   "outputs": [],
   "source": [
    "bayes_clf_acc = pd.DataFrame(columns=['Dataset','Covariance','Test Accuracy'])"
   ]
  },
  {
   "cell_type": "code",
   "execution_count": 19,
   "metadata": {},
   "outputs": [],
   "source": [
    "bayesian_d1_diag = BayesianGaussianMixture(n_components=10,covariance_type='diag',max_iter=100000)\n",
    "bayesian_d1_diag = bayesian_d1_diag.fit(d1_train_X,d1_train_Y)\n",
    "bayes_d1_diag_df = pd.DataFrame({'actual':d1_test_Y,'predicted':bayesian_d1_diag.predict(d1_test_X)})\n",
    "bayes_clf_acc = bayes_clf_acc.append({'Dataset':'D1','Covariance':'diag','Test Accuracy':np.round(bayes_d1_diag_df.loc[bayes_d1_diag_df['actual'] == bayes_d1_diag_df['predicted']].shape[0]/bayes_d1_diag_df.shape[0],4)},ignore_index=True)"
   ]
  },
  {
   "cell_type": "code",
   "execution_count": 20,
   "metadata": {},
   "outputs": [],
   "source": [
    "bayesian_d1_full = BayesianGaussianMixture(n_components=10,covariance_type='full',max_iter=10000)\n",
    "bayesian_d1_full = bayesian_d1_full.fit(d1_train_X,d1_train_Y)\n",
    "bayes_d1_full_df = pd.DataFrame({'actual':d1_test_Y,'predicted':bayesian_d1_full.predict(d1_test_X)})\n",
    "bayes_clf_acc = bayes_clf_acc.append({'Dataset':'D1','Covariance':'full','Test Accuracy':np.round(bayes_d1_full_df.loc[bayes_d1_full_df['actual'] == bayes_d1_full_df['predicted']].shape[0]/bayes_d1_full_df.shape[0],4)},ignore_index=True)"
   ]
  },
  {
   "cell_type": "code",
   "execution_count": 21,
   "metadata": {},
   "outputs": [],
   "source": [
    "bayesian_d2_diag = BayesianGaussianMixture(n_components=10,covariance_type='diag',max_iter=100000)\n",
    "bayesian_d2_diag = bayesian_d2_diag.fit(d2_train_X,d2_train_Y)\n",
    "bayes_d2_diag_df = pd.DataFrame({'actual':d2_test_Y,'predicted':bayesian_d2_diag.predict(d2_test_X)})\n",
    "bayes_clf_acc = bayes_clf_acc.append({'Dataset':'D2','Covariance':'diag','Test Accuracy':np.round(bayes_d2_diag_df.loc[bayes_d2_diag_df['actual'] == bayes_d2_diag_df['predicted']].shape[0]/bayes_d2_diag_df.shape[0],4)},ignore_index=True)"
   ]
  },
  {
   "cell_type": "code",
   "execution_count": 22,
   "metadata": {},
   "outputs": [],
   "source": [
    "bayesian_d2_full = BayesianGaussianMixture(n_components=10,covariance_type='full',max_iter=100000)\n",
    "bayesian_d2_full = bayesian_d2_full.fit(d2_train_X,d2_train_Y)\n",
    "bayes_d2_full_df = pd.DataFrame({'actual':d2_test_Y,'predicted':bayesian_d2_full.predict(d2_test_X)})\n",
    "bayes_clf_acc = bayes_clf_acc.append({'Dataset':'D2','Covariance':'full','Test Accuracy':np.round(bayes_d2_full_df.loc[bayes_d2_full_df['actual'] == bayes_d2_full_df['predicted']].shape[0]/bayes_d2_full_df.shape[0],4)},ignore_index=True)"
   ]
  },
  {
   "cell_type": "code",
   "execution_count": 23,
   "metadata": {},
   "outputs": [
    {
     "data": {
      "text/html": [
       "<div>\n",
       "<style scoped>\n",
       "    .dataframe tbody tr th:only-of-type {\n",
       "        vertical-align: middle;\n",
       "    }\n",
       "\n",
       "    .dataframe tbody tr th {\n",
       "        vertical-align: top;\n",
       "    }\n",
       "\n",
       "    .dataframe thead th {\n",
       "        text-align: right;\n",
       "    }\n",
       "</style>\n",
       "<table border=\"1\" class=\"dataframe\">\n",
       "  <thead>\n",
       "    <tr style=\"text-align: right;\">\n",
       "      <th></th>\n",
       "      <th>Dataset</th>\n",
       "      <th>Covariance</th>\n",
       "      <th>Test Accuracy</th>\n",
       "    </tr>\n",
       "  </thead>\n",
       "  <tbody>\n",
       "    <tr>\n",
       "      <th>0</th>\n",
       "      <td>D1</td>\n",
       "      <td>diag</td>\n",
       "      <td>0.1456</td>\n",
       "    </tr>\n",
       "    <tr>\n",
       "      <th>1</th>\n",
       "      <td>D1</td>\n",
       "      <td>full</td>\n",
       "      <td>0.0186</td>\n",
       "    </tr>\n",
       "    <tr>\n",
       "      <th>2</th>\n",
       "      <td>D2</td>\n",
       "      <td>diag</td>\n",
       "      <td>0.3316</td>\n",
       "    </tr>\n",
       "    <tr>\n",
       "      <th>3</th>\n",
       "      <td>D2</td>\n",
       "      <td>full</td>\n",
       "      <td>0.1964</td>\n",
       "    </tr>\n",
       "  </tbody>\n",
       "</table>\n",
       "</div>"
      ],
      "text/plain": [
       "  Dataset Covariance  Test Accuracy\n",
       "0      D1       diag         0.1456\n",
       "1      D1       full         0.0186\n",
       "2      D2       diag         0.3316\n",
       "3      D2       full         0.1964"
      ]
     },
     "execution_count": 23,
     "metadata": {},
     "output_type": "execute_result"
    }
   ],
   "source": [
    "bayes_clf_acc"
   ]
  },
  {
   "cell_type": "markdown",
   "metadata": {},
   "source": [
    "The test accuracies for the four classifier show that, classifiers using Fisher projections dataset has higher accuracies when compared to the PCA projected dataset.\n",
    "\n",
    "It is also seen that classifiers with diagonal covariance matrix have better accuracies when compared to those full covariance matrix, for this dataset."
   ]
  }
 ],
 "metadata": {
  "anaconda-cloud": {},
  "kernelspec": {
   "display_name": "Python 3",
   "language": "python",
   "name": "python3"
  },
  "language_info": {
   "codemirror_mode": {
    "name": "ipython",
    "version": 3
   },
   "file_extension": ".py",
   "mimetype": "text/x-python",
   "name": "python",
   "nbconvert_exporter": "python",
   "pygments_lexer": "ipython3",
   "version": "3.6.6"
  },
  "toc": {
   "nav_menu": {},
   "number_sections": true,
   "sideBar": true,
   "skip_h1_title": false,
   "title_cell": "Table of Contents",
   "title_sidebar": "Contents",
   "toc_cell": false,
   "toc_position": {},
   "toc_section_display": true,
   "toc_window_display": false
  }
 },
 "nbformat": 4,
 "nbformat_minor": 2
}
